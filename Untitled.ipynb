{
 "cells": [
  {
   "cell_type": "code",
   "execution_count": null,
   "id": "edf9e330",
   "metadata": {},
   "outputs": [],
   "source": [
    "Answer1:\n",
    "5= This is an integer value.\n",
    "5.0= This is a float value.\n",
    "5>1= this is of boolean data type.\n",
    "'5'= This is a character value.\n",
    "5*2= This is an integer value.\n",
    "'5'*2= It is a integer data type value.\n",
    "'5'+'2'= It is a integer data type value.\n",
    "5/2= The answer gives us a float value.\n",
    "5%2= the answer gives us an integer value.\n",
    "{5,2,1}= This is an array.\n",
    "5==3   This will give us a boolean data type.\n",
    "Pi(the number)= This is a double data type value."
   ]
  },
  {
   "cell_type": "code",
   "execution_count": 2,
   "id": "f1bbaf34",
   "metadata": {},
   "outputs": [
    {
     "name": "stdout",
     "output_type": "stream",
     "text": [
      "34\r\n"
     ]
    }
   ],
   "source": [
    "//Answer2(a)\n",
    "\n",
    "String input = \"Supercalifragilisticexpialidocious\";// input is given\n",
    "int count_char = 0;                                 // counting must be started from index0\n",
    "foreach (char a in input)\n",
    "{\n",
    "  count_char++;                                   // increment by one\n",
    "}\n",
    "Console.WriteLine(count_char);                    //output\n"
   ]
  },
  {
   "cell_type": "code",
   "execution_count": 1,
   "id": "941e874c",
   "metadata": {},
   "outputs": [
    {
     "name": "stdout",
     "output_type": "stream",
     "text": [
      "Dose the given string contains the substring? \n",
      "True\r\n"
     ]
    }
   ],
   "source": [
    "//Answer2(b)\n",
    "String given_string = \"Supercalifragilisticexpialidocious\";\n",
    "String sub_string = \"ice\";              // substring input\n",
    "Boolean result = given_string.Contains(sub_string); //output will be a boolean value.\n",
    "Console.WriteLine($\"Dose the given string contains the substring? \\n{result}\");\n"
   ]
  },
  {
   "cell_type": "code",
   "execution_count": 4,
   "id": "90584fe5",
   "metadata": {},
   "outputs": [
    {
     "name": "stdout",
     "output_type": "stream",
     "text": [
      "both the words 'Supercalifragilisticexpialidocious' and 'Bababadalgharaghtakamminarronnkonn' has equal in length.\r\n"
     ]
    }
   ],
   "source": [
    "//Answer2(c)\n",
    "String string1 = \"Supercalifragilisticexpialidocious\";// string inputs.\n",
    "String string2 = \"Honorificabilitudinitatibus\";\n",
    "String string3 = \"Bababadalgharaghtakamminarronnkonn\";\n",
    "\n",
    "int length1= string1.Length;  // lengths of strings which will be an integer.\n",
    "int length2= string2.Length;\n",
    "int length3= string3.Length;\n",
    "\n",
    "if (length1 > length2)   // condition1\n",
    "{\n",
    "    if(length1 > length3)  // subconditions.\n",
    "    {\n",
    "        Console.WriteLine(\"the longest word is {0}\",string1);\n",
    "    }\n",
    "    if(length3 > length1)\n",
    "    {\n",
    "        Console.WriteLine(\"the longest word is {0}\",string3);\n",
    "    }\n",
    "    if(length1 == length3) \n",
    "    {\n",
    "        Console.WriteLine(\"both the words '{0}' and '{1}' has equal in length.\",string1, string3);\n",
    "    }\n",
    "}\n",
    "else\n",
    "{\n",
    "    Console.WriteLine(\"the longest word is {0}\",string2);\n",
    "}\n"
   ]
  },
  {
   "cell_type": "code",
   "execution_count": null,
   "id": "ce8fc334",
   "metadata": {},
   "outputs": [],
   "source": [
    "Answer2(d)\n",
    "The answer would be \n"
   ]
  },
  {
   "cell_type": "code",
   "execution_count": 6,
   "id": "354f408f",
   "metadata": {},
   "outputs": [
    {
     "name": "stdout",
     "output_type": "stream",
     "text": [
      "1.7320508075688772\r\n"
     ]
    }
   ],
   "source": [
    "//Answer3:\n",
    "double triangleArea(int i,int j,int k) \n",
    "{\n",
    "    int a = i;\n",
    "    int b = j;\n",
    "    int c = k;\n",
    "    double s = 0;   // defining s\n",
    "    double area = 0;  // defining area.\n",
    "    \n",
    "     s = (a + b + c) / 2; \n",
    "     area = Math.Sqrt(s*(s-a) * (s - b) * (s - c)); \n",
    "      \n",
    "    return area;\n",
    "}\n",
    "Console.WriteLine(triangleArea(2,2,2));  // assigning required value\n"
   ]
  },
  {
   "cell_type": "code",
   "execution_count": 7,
   "id": "ae5450e8",
   "metadata": {},
   "outputs": [
    {
     "name": "stdout",
     "output_type": "stream",
     "text": [
      "Input the number of elements to be stored in the array :\n",
      "The Even elements are: \n",
      "\n",
      "The Odd elements are: \n",
      "\n"
     ]
    }
   ],
   "source": [
    "//Answer4:\n",
    "String c;\n",
    "\n",
    "Console.WriteLine(\"Input the number of elements to be stored in the array :\");\n",
    "c = Console.ReadLine();\n",
    "int a = Convert.ToInt32(c);\n",
    "\n",
    "String[] input = new String[a];\n",
    "\n",
    "\n",
    "for (int i = 0; i < a; i++)\n",
    "{\n",
    "    Console.WriteLine(\"element - {0}: \",i);\n",
    "\n",
    "   input[i] = Console.ReadLine();\n",
    "}\n",
    "\n",
    "String[] odd = new String[a]; // defining array of odd numbers\n",
    "String[] even = new String[a]; //defining array of even numbers\n",
    "\n",
    "int e = 0;\n",
    "int o = 0;\n",
    "int x;\n",
    "\n",
    "for (int j = 0; j < a; j++)\n",
    "{\n",
    "    x = Convert.ToInt32(input[j]);\n",
    "    if (x % 2 == 0)\n",
    "    {\n",
    "        even[e] = input[j];\n",
    "        e++;\n",
    "    }\n",
    "    else\n",
    "    {\n",
    "        odd[o] = input[j];\n",
    "        o++;\n",
    "    }\n",
    "}\n",
    "Console.WriteLine(\"The Even elements are: \\n\");\n",
    "for (int k = 0; k < e; k++)\n",
    "{\n",
    "                \n",
    "    Console.WriteLine(\" {0}\", even[k]);\n",
    "}\n",
    "Console.WriteLine(\"The Odd elements are: \\n\");\n",
    "for (int k = 0; k < o; k++)\n",
    "{\n",
    "                \n",
    "    Console.WriteLine(\" {0}\", odd[k]);\n",
    "}\n"
   ]
  },
  {
   "cell_type": "code",
   "execution_count": 8,
   "id": "bc28e7c3",
   "metadata": {},
   "outputs": [
    {
     "name": "stdout",
     "output_type": "stream",
     "text": [
      "True\n",
      "False\n"
     ]
    }
   ],
   "source": [
    "//Answer5(a)\n",
    "public bool inside(int i,int j,int k,int l,int m, int n)//the datatype is integer\n",
    "{\n",
    "   \n",
    "    if(k < i && i < m) // condition to lie within the rectangle\n",
    "    {\n",
    "        if (l < j && j < n)\n",
    "        {\n",
    "            return true;\n",
    "        }\n",
    "        else\n",
    "        {\n",
    "            return false;\n",
    "        }\n",
    "    }\n",
    "    else\n",
    "    {\n",
    "        return false;\n",
    "    }\n",
    "}\n",
    "\n",
    "Console.WriteLine(inside(1,1,0,0,2,3));  // assigning values for output\n",
    "Console.WriteLine(inside(-1,-1,0,0,2,3));\n"
   ]
  },
  {
   "cell_type": "code",
   "execution_count": 9,
   "id": "6e7ea4de",
   "metadata": {},
   "outputs": [
    {
     "name": "stdout",
     "output_type": "stream",
     "text": [
      "False\n",
      "True\n"
     ]
    }
   ],
   "source": [
    "//Answer5(b):\n",
    "public bool inside(double i,double j,double k,double l,double m,double n)//the datatype is float value\n",
    "{\n",
    "   \n",
    "    if(k < i && i < m)\n",
    "    {\n",
    "        if (l < j && j < n)\n",
    "        {\n",
    "            return true;\n",
    "        }\n",
    "        else\n",
    "        {\n",
    "            return false;\n",
    "        }\n",
    "    }\n",
    "    else\n",
    "    {\n",
    "        return false;\n",
    "    }\n",
    "}\n",
    "\n",
    "Console.WriteLine(inside(1,1,0.3,0.5,1.1,0.7)); \n",
    "Console.WriteLine(inside(1,1,0.5,0.2,1.1,2));\n",
    "\n"
   ]
  },
  {
   "cell_type": "code",
   "execution_count": 6,
   "id": "ef1b66a5",
   "metadata": {},
   "outputs": [
    {
     "name": "stdout",
     "output_type": "stream",
     "text": [
      "enterway\n"
     ]
    }
   ],
   "source": [
    "#Answer6:\n",
    "def Pig(str):\n",
    "    string = str.lower() # string is converted to lowercase.\n",
    "    if string[0] in ('a','e','i','o','u'):  # condition of vowels\n",
    "        A = string + 'way'\n",
    "        return A\n",
    "    else:\n",
    "        B = string[1:] + string[0] + 'ay'\n",
    "        return B\n",
    "        \n",
    "print(Pig(\"Enter\"))  # assigning value whose output is required.\n",
    "   "
   ]
  },
  {
   "cell_type": "code",
   "execution_count": 2,
   "id": "155543f7",
   "metadata": {},
   "outputs": [
    {
     "name": "stdout",
     "output_type": "stream",
     "text": [
      "There are 15 patients of blood type A\n",
      "There are 1 patients of blood type B\n",
      "There are 13 patients of blood type AB\n",
      "There are 15 patients of blood type O\n",
      "There are 0 patients of blood type OO\n"
     ]
    }
   ],
   "source": [
    "#Answer7:\n",
    "def bldcount(string):\n",
    "    \n",
    "    a,b,ab,o,oo=0,0,0,0,0\n",
    "    name=open(string,'r')\n",
    "    x = name.read()\n",
    "    y = x.split() # giving different bloodgroups in separate lines\n",
    "    for i in y:\n",
    "        if i=='A' or i=='a':  # conditions and increment by 1\n",
    "            a+=1\n",
    "        elif i=='B' or i=='b':\n",
    "            b+=1\n",
    "        elif i=='AB' or i=='ab':\n",
    "            ab+=1\n",
    "        elif i=='o' or i=='O':\n",
    "            o+=1\n",
    "        elif i=='OO' or i=='oo':\n",
    "            oo+=1\n",
    "    print('There are {} patients of blood type A'.format(a)) # required form of output\n",
    "    print('There are {} patients of blood type B'.format(b))\n",
    "    print('There are {} patients of blood type AB'.format(ab))\n",
    "    print('There are {} patients of blood type O'.format(o))\n",
    "    print('There are {} patients of blood type OO'.format(oo))\n",
    "          \n",
    "          \n",
    "bldcount('Bloodcount.txt') # assigning the text file where the input resides"
   ]
  },
  {
   "cell_type": "code",
   "execution_count": 1,
   "id": "c0cfbd31",
   "metadata": {},
   "outputs": [
    {
     "name": "stdout",
     "output_type": "stream",
     "text": [
      "122.96544\n",
      "1.241401\n"
     ]
    }
   ],
   "source": [
    "#Answer8:\n",
    "def curconv(s,val):\n",
    "    name=open('Currencies.txt','r') # opening a text file where the input resides\n",
    "    x = name.read()\n",
    "    h = []\n",
    "    i = x.splitlines()\n",
    "    #print(len(i))\n",
    "\n",
    "    for k in range(len(i)):\n",
    "        h.append(i[k].split())\n",
    "    for k in range(len(h)):\n",
    "        if h[k][0]==s:\n",
    "            res=int(val)*float(h[k][1])\n",
    "            break\n",
    "    return res\n",
    "\n",
    "print(curconv('EUR',100))\n",
    "print(curconv('JPY', 100))\n",
    "\n"
   ]
  },
  {
   "cell_type": "code",
   "execution_count": null,
   "id": "bc8c1657",
   "metadata": {},
   "outputs": [],
   "source": [
    "#Answer9:\n",
    "a. TypeError: unsupported operand type(s) for +: 'int' and 'str'.\n",
    "b. IndexError: list index is out of range.\n",
    "c. ValueError: math domain error.\n",
    "d. NameError: name 'x' is not defined.\n",
    "e. FileNotFoundError: [Errno 2] No such file or directory."
   ]
  },
  {
   "cell_type": "code",
   "execution_count": 3,
   "id": "abf29111",
   "metadata": {},
   "outputs": [
    {
     "name": "stdout",
     "output_type": "stream",
     "text": [
      "[1, 1, 1, 3, 5, 1, 1, 2, 1, 0, 1, 0, 1, 2, 4, 0, 1, 2, 0, 2, 1, 0, 1, 1, 0, 0]\n",
      "[1, 0, 0, 0, 1, 0, 0, 0, 0, 0, 0, 1, 0, 0, 0, 2, 0, 0, 0, 0, 0, 0, 0, 0, 0, 0]\n"
     ]
    }
   ],
   "source": [
    "#Answer10:\n",
    "def frequencies(strings):\n",
    "    a = []\n",
    "    letters = 'abcdefghijklmnopqrstuvwxyz'\n",
    "    for i in range(len(letters)):\n",
    "        x = 0\n",
    "        for f in range(len(strings)):\n",
    "            if letters[i] == strings[f]:\n",
    "                x += 1\n",
    "        a.append(x)\n",
    "    print(a)\n",
    "    \n",
    "frequencies('The quick red fox got bored and went home.')\n",
    "frequencies('apple')"
   ]
  },
  {
   "cell_type": "code",
   "execution_count": null,
   "id": "27172ab3",
   "metadata": {},
   "outputs": [],
   "source": []
  }
 ],
 "metadata": {
  "kernelspec": {
   "display_name": "Python 3",
   "language": "python",
   "name": "python3"
  },
  "language_info": {
   "codemirror_mode": {
    "name": "ipython",
    "version": 3
   },
   "file_extension": ".py",
   "mimetype": "text/x-python",
   "name": "python",
   "nbconvert_exporter": "python",
   "pygments_lexer": "ipython3",
   "version": "3.8.8"
  }
 },
 "nbformat": 4,
 "nbformat_minor": 5
}
